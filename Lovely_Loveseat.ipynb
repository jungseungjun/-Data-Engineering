{
 "cells": [
  {
   "cell_type": "code",
   "execution_count": 4,
   "id": "ba0687ed-ab1b-442d-818c-3eacbdb836e9",
   "metadata": {},
   "outputs": [],
   "source": [
    "#202055016 소프트웨어 융합학부 정승준\n",
    "lovely_loveseat_description = \"Lovely Loveseat. Tufted polyester blend on wood. 32 inches high x 40 inches wide x 30 inches deep. Red or white.\"\n",
    "lovely_loveseat_price = 254.00\n",
    "\n",
    "stylish_settee_description = \"Stylish Settee. Faux leather on birch. 29.50 inches high x 54.75 inches wide x 28 inches deep. Black.\"\n",
    "stylish_settee_price = 180.50\n",
    "\n",
    "luxurious_lamp_description = \"Luxurious Lamp. Glass and iron. 36 inches tall. Brown with cream shade.\"\n",
    "luxurious_lamp_price = 52.15\n",
    "#세금율\n",
    "sales_tax = 0.088"
   ]
  },
  {
   "cell_type": "code",
   "execution_count": 22,
   "id": "7e571ef7-b418-4288-9ac0-3ae128ec0588",
   "metadata": {},
   "outputs": [
    {
     "name": "stdout",
     "output_type": "stream",
     "text": [
      "-Lovely Loveseat Reciept-\n",
      "\n",
      "Customer One Items: \n",
      "Lovely Loveseat. Tufted polyester blend on wood. 32 inches high x 40 inches wide x 30 inches deep. Red or white.Luxurious Lamp. Glass and iron. 36 inches tall. Brown with cream shade.\n",
      "\n",
      "Customer One Total: \n",
      "333.09119999999996\n",
      "\n",
      "\n",
      "Thank You! Have a nice day!\n"
     ]
    }
   ],
   "source": [
    "#첫번째 손님\n",
    "customer_one_total = 0\n",
    "customer_one_itemization = \"\"\n",
    "\n",
    "#의자 구매\n",
    "customer_one_total += lovely_loveseat_price\n",
    "customer_one_itemization += lovely_loveseat_description \n",
    "\n",
    "#램프 구매\n",
    "customer_one_total += luxurious_lamp_price\n",
    "customer_one_itemization += luxurious_lamp_description \n",
    "\n",
    "#세금 계산\n",
    "customer_one_tax = customer_one_total * sales_tax\n",
    "customer_one_total += customer_one_tax\n",
    "\n",
    "# 영수증 인쇄\n",
    "print(\"-Lovely Loveseat Reciept-\\n\") #이건 제가 실제처럼 만들기 위해 추가한 항목입니다.\n",
    "print(\"Customer One Items: \\n\" + customer_one_itemization + \"\\n\")\n",
    "print(\"Customer One Total: \" )\n",
    "print(customer_one_total )\n",
    "print(\"\\n\")\n",
    "print(\"Thank You! Have a nice day!\") #이것도 제가 실제처럼 만들기 위해 추가한 항목입니다."
   ]
  }
 ],
 "metadata": {
  "kernelspec": {
   "display_name": "Python 3 (ipykernel)",
   "language": "python",
   "name": "python3"
  },
  "language_info": {
   "codemirror_mode": {
    "name": "ipython",
    "version": 3
   },
   "file_extension": ".py",
   "mimetype": "text/x-python",
   "name": "python",
   "nbconvert_exporter": "python",
   "pygments_lexer": "ipython3",
   "version": "3.10.9"
  }
 },
 "nbformat": 4,
 "nbformat_minor": 5
}
