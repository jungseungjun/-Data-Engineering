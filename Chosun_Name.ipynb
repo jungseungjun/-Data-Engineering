{
 "cells": [
  {
   "cell_type": "code",
   "execution_count": 73,
   "id": "c2e0249e-7f45-4bc0-841e-8c8ba6fc6a39",
   "metadata": {},
   "outputs": [
    {
     "data": {
      "text/plain": [
       "['쌍', '쇠', '복', '돌', '팽', '육', '쌍', '개', '칠', '갑', '삼', '방']"
      ]
     },
     "execution_count": 73,
     "metadata": {},
     "output_type": "execute_result"
    }
   ],
   "source": [
    "first_char = ['쌍', '쇠', '복', '돌', '팽', '육', '쌍', '개', '칠', '갑', '삼', '방']\n",
    "first_char"
   ]
  },
  {
   "cell_type": "code",
   "execution_count": 74,
   "id": "bbde0fbe-d157-4451-a779-71d4072712a9",
   "metadata": {},
   "outputs": [
    {
     "data": {
      "text/plain": [
       "['봉',\n",
       " '구',\n",
       " '욕',\n",
       " '포',\n",
       " '똥',\n",
       " '삼',\n",
       " '식',\n",
       " '석',\n",
       " '놈',\n",
       " '님',\n",
       " '년',\n",
       " '돌',\n",
       " '단',\n",
       " '득',\n",
       " '방',\n",
       " '질',\n",
       " '장',\n",
       " '걸',\n",
       " '래',\n",
       " '룡',\n",
       " '동',\n",
       " '순',\n",
       " '자',\n",
       " '박',\n",
       " '창',\n",
       " '언',\n",
       " '것',\n",
       " '포',\n",
       " '만',\n",
       " '단',\n",
       " '국']"
      ]
     },
     "execution_count": 74,
     "metadata": {},
     "output_type": "execute_result"
    }
   ],
   "source": [
    "second_char = ['봉', '구', '욕', '포', '똥', '삼', '식', '석', '놈', '님', '년', '돌', '단', '득', '방', '질', '장', '걸', '래', '룡', '동', '순', '자', '박', '창', '언', '것', '포', '만', '단', '국']\n",
    "second_char"
   ]
  },
  {
   "cell_type": "code",
   "execution_count": 76,
   "id": "8090d0ad-d70c-4ec4-ae07-9823cd4deab9",
   "metadata": {},
   "outputs": [],
   "source": [
    "def get_my_chosun_name(family_name, month, day):\n",
    "    first_char = ['쌍', '쇠', '복', '돌', '팽', '육', '쌍', '개', '칠', '갑', '삼', '방']\n",
    "    \n",
    "    second_char = ['봉', '구', '욕', '포', '똥', '삼', '식', '석', '놈', '님', '년', '돌', '단', '득', '방', '질', '장', '걸', '래', '룡', '동', '순', '자', '박', '창', '언', '것', '포', '만', '단', '국']\n",
    " \n",
    "    first_char = first_char[month - 1]\n",
    "    second_char = second_char[day - 1]\n",
    "    \n",
    "    chosun_name = family_name +  first_char + second_char\n",
    "    \n",
    "    return \"당신의 조선시대 이름은\" + chosun_name + \"입니다.\"\n"
   ]
  },
  {
   "cell_type": "code",
   "execution_count": 77,
   "id": "1ffb8a5b-eafd-4fc1-9e2b-46a275d67214",
   "metadata": {},
   "outputs": [
    {
     "name": "stdout",
     "output_type": "stream",
     "text": [
      "당신의 조선시대 이름은정개식입니다.\n"
     ]
    }
   ],
   "source": [
    "print(get_my_chosun_name('정', 8, 7))"
   ]
  }
 ],
 "metadata": {
  "kernelspec": {
   "display_name": "Python 3 (ipykernel)",
   "language": "python",
   "name": "python3"
  },
  "language_info": {
   "codemirror_mode": {
    "name": "ipython",
    "version": 3
   },
   "file_extension": ".py",
   "mimetype": "text/x-python",
   "name": "python",
   "nbconvert_exporter": "python",
   "pygments_lexer": "ipython3",
   "version": "3.10.9"
  }
 },
 "nbformat": 4,
 "nbformat_minor": 5
}
