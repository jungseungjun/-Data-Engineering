{
 "cells": [
  {
   "cell_type": "code",
   "execution_count": 14,
   "id": "0e9ce0cc-e558-44e6-af28-ab8624c7450d",
   "metadata": {},
   "outputs": [],
   "source": [
    "#202055016 소프트웨어융합학부 정승준"
   ]
  },
  {
   "cell_type": "code",
   "execution_count": 37,
   "id": "8e4fa43f-75ad-4d3f-906d-b9d224239e25",
   "metadata": {},
   "outputs": [
    {
     "data": {
      "text/plain": [
       "'\\n#세개의 데이터 보기 좋게 합치기(문제와 호환성(의도)이 맞지 않아 삭제했습니다.)\\ntotal_data = []\\nfor i in range(len(hairstyles)):\\n    total_data.append([hairstyles[i], prices[i], last_week[i]])\\n'"
      ]
     },
     "execution_count": 37,
     "metadata": {},
     "output_type": "execute_result"
    }
   ],
   "source": [
    "#커트 이름, 커트 가격, 지난주 헤어스타일별 구매 횟수 입력\n",
    "hairstyles = [\"bouffant\", \"pixie\", \"dreadlocks\", \"crew\", \"bowl\", \"bob\", \"mohawk\", \"flattop\"]\n",
    "prices = [30, 25, 40, 20, 20, 35, 50, 35]\n",
    "last_week = [2, 3, 5, 8, 4, 4, 6, 2]\n",
    "\n",
    "\"\"\"\n",
    "#세개의 데이터 보기 좋게 합치기(문제와 호환성(의도)이 맞지 않아 삭제했습니다.)\n",
    "total_data = []\n",
    "for i in range(len(hairstyles)):\n",
    "    total_data.append([hairstyles[i], prices[i], last_week[i]])\n",
    "\"\"\""
   ]
  },
  {
   "cell_type": "code",
   "execution_count": 38,
   "id": "b9db7aeb-6d0b-4ff4-880a-590fa1e62857",
   "metadata": {},
   "outputs": [
    {
     "name": "stdout",
     "output_type": "stream",
     "text": [
      "Average_price is  31.875\n"
     ]
    }
   ],
   "source": [
    "#total_price라는 변수를 만들고 커트의 평균가격 구하기\n",
    "total_price = 0\n",
    "for price in prices:\n",
    "    total_price += price\n",
    "average_price = total_price / len(prices)\n",
    "print(\"Average_price is \", average_price)"
   ]
  },
  {
   "cell_type": "code",
   "execution_count": 46,
   "id": "9184d053-326d-4fdb-9e1b-2d9691b58678",
   "metadata": {},
   "outputs": [
    {
     "data": {
      "text/plain": [
       "[25, 20, 35, 15, 15, 30, 45, 30]"
      ]
     },
     "execution_count": 46,
     "metadata": {},
     "output_type": "execute_result"
    }
   ],
   "source": [
    "#새로운 가격 형성(-5)\n",
    "new_prices = [price - 5 for price in prices]\n",
    "new_prices"
   ]
  },
  {
   "cell_type": "code",
   "execution_count": 57,
   "id": "4d05fc0d-efab-4eef-ada5-e1630f094ec3",
   "metadata": {},
   "outputs": [
    {
     "name": "stdout",
     "output_type": "stream",
     "text": [
      "1085\n",
      "Average of daily revenue is 155.0\n"
     ]
    }
   ],
   "source": [
    "#일주일 총 매출 구하기(가격 x 구매 횟수)\n",
    "total_revenue = 0\n",
    "for i in range(len(hairstyles)) :\n",
    "    total_revenue += prices[i] *last_week[i]\n",
    "print(total_revenue)\n",
    "\n",
    "#일일 평균 매출 구하기(일주일 총 매출 / 7)\n",
    "average_daily_revenue = total_revenue / 7\n",
    "print(\"Average of daily revenue is\", average_daily_revenue)"
   ]
  },
  {
   "cell_type": "code",
   "execution_count": 58,
   "id": "50854755-0936-4836-aded-92e5300bd3e4",
   "metadata": {},
   "outputs": [
    {
     "name": "stdout",
     "output_type": "stream",
     "text": [
      "['bouffant', 'pixie', 'crew', 'bowl']\n"
     ]
    }
   ],
   "source": [
    "#고객 끌어모으기\n",
    "cuts_under_30 = [hairstyles[i] for i in range(len(new_prices)) if new_prices[i] < 30]\n",
    "print(cuts_under_30)"
   ]
  }
 ],
 "metadata": {
  "kernelspec": {
   "display_name": "Python 3 (ipykernel)",
   "language": "python",
   "name": "python3"
  },
  "language_info": {
   "codemirror_mode": {
    "name": "ipython",
    "version": 3
   },
   "file_extension": ".py",
   "mimetype": "text/x-python",
   "name": "python",
   "nbconvert_exporter": "python",
   "pygments_lexer": "ipython3",
   "version": "3.10.9"
  }
 },
 "nbformat": 4,
 "nbformat_minor": 5
}
