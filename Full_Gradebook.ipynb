{
 "cells": [
  {
   "cell_type": "code",
   "execution_count": null,
   "id": "fc8eed53-470b-4fe3-a2a2-4c791b5d6347",
   "metadata": {},
   "outputs": [],
   "source": [
    "#202055016 소프트웨어융합학부 정승준"
   ]
  },
  {
   "cell_type": "code",
   "execution_count": 25,
   "id": "e81dca7c-6c66-4b72-ac48-33a4efeb5692",
   "metadata": {},
   "outputs": [],
   "source": [
    "#성적부를 만들고 성적 입력\n",
    "Subjects = [\"physics\", \"calculus\", \"poetry\", \"history\"]\n",
    "grades = [98, 97, 85, 88]\n",
    "gradebook = [[\"physics\",98], [\"calculas\",97],[\"poetry\",85],[\"history\",88]]\n",
    "\n",
    "#computer science와 visual arts 항목을 추가(append)\n",
    "gradebook.append([\"computer science\",100])\n",
    "gradebook.append([\"visual arts\", 93])\n",
    "\n",
    "#visual arts 값 수정\n",
    "gradebook[5] = [\"visual arts\", 98]\n",
    "\n",
    "#poetry의 성적값을 삭제 한 후, 합/불을 위하여 pass로 변경\n",
    "gradebook.remove([\"poetry\",85]) #도저히 85의 값만 삭제할 수 없어서 전체 다 삭제한 후 아랫줄을 통하여 추가했습니다.\n",
    "gradebook.append([\"poetry\",\"pass\"])\n",
    "\n",
    "#지난 학기의 성적 입력 및 올해 작년 학기 성적 합산\n",
    "last_semester_gradebook = [[\"politics\", 80], [\"latin\", 96], [\"dance\", 97], [\"architecture\", 65]]\n",
    "full_gradebook = last_semester_gradebook + gradebook"
   ]
  },
  {
   "cell_type": "code",
   "execution_count": 26,
   "id": "ea6b909a-d1bd-43ef-9c90-a25bbf75e60c",
   "metadata": {},
   "outputs": [
    {
     "name": "stdout",
     "output_type": "stream",
     "text": [
      "[['politics', 80], ['latin', 96], ['dance', 97], ['architecture', 65], ['physics', 98], ['calculas', 97], ['history', 88], ['computer science', 100], ['visual arts', 98], ['poetry', 'pass']]\n"
     ]
    }
   ],
   "source": [
    "#결과물\n",
    "print(full_gradebook)"
   ]
  }
 ],
 "metadata": {
  "kernelspec": {
   "display_name": "Python 3 (ipykernel)",
   "language": "python",
   "name": "python3"
  },
  "language_info": {
   "codemirror_mode": {
    "name": "ipython",
    "version": 3
   },
   "file_extension": ".py",
   "mimetype": "text/x-python",
   "name": "python",
   "nbconvert_exporter": "python",
   "pygments_lexer": "ipython3",
   "version": "3.10.9"
  }
 },
 "nbformat": 4,
 "nbformat_minor": 5
}
