{
 "cells": [
  {
   "cell_type": "code",
   "execution_count": 20,
   "id": "10ce2e63-1a7e-486e-be47-596e71c5e08b",
   "metadata": {},
   "outputs": [],
   "source": [
    "import numpy as np  \n",
    "import matplotlib.pyplot as plt  \n",
    "from mpl_toolkits.axes_grid1 import make_axes_locatable"
   ]
  },
  {
   "cell_type": "code",
   "execution_count": 22,
   "id": "4374afa6-e106-4eb2-87b7-935398a15f72",
   "metadata": {},
   "outputs": [
    {
     "data": {
      "text/plain": [
       "<contextlib.ExitStack at 0x2089183dfc0>"
      ]
     },
     "execution_count": 22,
     "metadata": {},
     "output_type": "execute_result"
    }
   ],
   "source": [
    "%matplotlib qt5\n",
    "%config InlineBackend.figure_format = 'svg'\n",
    "\n",
    "plt.rcParams['figure.figsize'] = [12, 5]\n",
    "plt.rcParams['font.size'] = 13\n",
    "plt.ion()"
   ]
  },
  {
   "cell_type": "code",
   "execution_count": 24,
   "id": "7f8a636d-d738-453f-87eb-eb399f503b1e",
   "metadata": {},
   "outputs": [
    {
     "data": {
      "text/plain": [
       "-1"
      ]
     },
     "execution_count": 24,
     "metadata": {},
     "output_type": "execute_result"
    }
   ],
   "source": [
    "# [+] 함수 구현\n",
    "def f(z):\n",
    "    return np.square(z) - 1\n",
    "\n",
    "# 함수 테스트\n",
    "f(0)"
   ]
  },
  {
   "cell_type": "code",
   "execution_count": 26,
   "id": "829ada4e-d7b8-4a24-98ec-39822b3a0d17",
   "metadata": {},
   "outputs": [
    {
     "data": {
      "text/plain": [
       "array([15.  +0.j,  1.56+0.j])"
      ]
     },
     "execution_count": 26,
     "metadata": {},
     "output_type": "execute_result"
    }
   ],
   "source": [
    "z = [4.0+0.j, 1.6+0.j]\n",
    "f(z)"
   ]
  },
  {
   "cell_type": "code",
   "execution_count": 30,
   "id": "f81e2032-7fc8-4c25-b04e-4ec3d096938f",
   "metadata": {},
   "outputs": [],
   "source": [
    "# [+] np.linspace()를 이용하여 x축, y축 값 집합을 생성\n",
    "x, y = np.meshgrid(np.linspace(-10,10,20), np.linspace(-10,10,20))"
   ]
  },
  {
   "cell_type": "code",
   "execution_count": 37,
   "id": "8bbde501-396f-49cd-bfd8-bfaa2ee8ac26",
   "metadata": {},
   "outputs": [],
   "source": [
    "# [+] 복소수 집합(mesh)으로 변환하기\n",
    "mesh = y * 1j + x"
   ]
  },
  {
   "cell_type": "code",
   "execution_count": 39,
   "id": "f4e4390e-eab1-4e18-a8f3-aa84b378e919",
   "metadata": {},
   "outputs": [],
   "source": [
    "output = np.abs(f(mesh))"
   ]
  },
  {
   "cell_type": "code",
   "execution_count": 52,
   "id": "72de6e75-eead-4eb4-a84d-9fd478fe88b7",
   "metadata": {},
   "outputs": [],
   "source": [
    "fig = plt.figure()\n",
    "ax = plt.axes(projection='3d')\n",
    "\n",
    "ax.scatter(x, y, output, alpha=0.2)\n",
    "\n",
    "ax.set_xlabel('Real axis')      # 실수부\n",
    "ax.set_ylabel('Imaginary axis') # 허수부\n",
    "ax.set_zlabel('Absolute value') # 함수값의 절대값\n",
    "ax.set_title('One Iteration: $f(z) = z^2 - 1$');\n",
    "plt.show()"
   ]
  },
  {
   "cell_type": "code",
   "execution_count": 54,
   "id": "6a902aae-fb2e-4e89-9dc2-e3e6fe5f22b5",
   "metadata": {},
   "outputs": [],
   "source": [
    "output = np.abs(f(f(mesh)))\n",
    "\n",
    "ax = plt.axes(projection='3d')\n",
    "\n",
    "ax.scatter(x, y, output, alpha=0.2)\n",
    "\n",
    "ax.set_xlabel('Real axis')\n",
    "ax.set_ylabel('Imaginary axis')\n",
    "ax.set_zlabel('Absolute value')\n",
    "ax.set_title('Two Iterations: $ f(z) = z^2 - 1$');"
   ]
  },
  {
   "cell_type": "code",
   "execution_count": 55,
   "id": "50d452c8-1278-4eab-be2c-213bd32929c1",
   "metadata": {},
   "outputs": [],
   "source": [
    "selected_values = np.array([0.4 + 0.4j, 0.41 + 0.4j, 0.4 + 0.41j])\n",
    "num_iter = 9\n",
    "\n",
    "outputs = np.zeros(\n",
    "    (num_iter+1, selected_values.shape[0]),  # 10X3 Zero 배열 생성\n",
    "    dtype=complex  # 데이터 타입: 복소수\n",
    ")\n",
    "outputs[0] = selected_values   # 함수 초기 조건\n",
    "\n",
    "for i in range(num_iter):\n",
    "    outputs[i+1] = f(outputs[i])  # 10번 함수 반복하는 동안 각 결과를 저장\n",
    "\n",
    "fig, axes = plt.subplots(1, selected_values.shape[0], figsize=(16, 6))\n",
    "axes[1].set_xlabel('Real axis')\n",
    "axes[0].set_ylabel('Imaginary axis')\n",
    "\n",
    "for ax, data in zip(axes, outputs.T):\n",
    "    cycle = ax.scatter(\n",
    "        data.real,  # 실수부\n",
    "        data.imag,  # 허수부\n",
    "        c=range(data.shape[0]), \n",
    "        alpha=0.6\n",
    "    )\n",
    "    ax.set_title(f'Mapping of iterations on {data[0]}')\n",
    "\n",
    "fig.colorbar(cycle, ax=axes, location='bottom', label='Iteration');"
   ]
  },
  {
   "cell_type": "code",
   "execution_count": 56,
   "id": "eae0f675-18c8-4d0d-be4e-9e6c66bb06b8",
   "metadata": {},
   "outputs": [],
   "source": [
    "def divergence_rate(mesh, num_iter=10, radius=2):\n",
    "\n",
    "    z = mesh.copy()\n",
    "    # 값 별 반복 횟수를 저장\n",
    "    diverge_len = np.zeros(mesh.shape)\n",
    "\n",
    "    # 발산되지 않은 값들에 대해 함수를 반복 적용\n",
    "    for i in range(num_iter):\n",
    "        # 1. Boolean 배열 마스크 생성\n",
    "        conv_mask = np.abs(z) < radius\n",
    "\n",
    "        # 2. 해당 값들에 대한 diverge_len 값 증가\n",
    "        diverge_len[conv_mask] += 1\n",
    "\n",
    "        # 3. 해당 값들에 대해 함수 적용\n",
    "        z = np.square(z) - 1\n",
    "\n",
    "    return diverge_len"
   ]
  },
  {
   "cell_type": "code",
   "execution_count": 57,
   "id": "f37c165d-103c-45df-8f6b-b6090df71d83",
   "metadata": {},
   "outputs": [
    {
     "name": "stderr",
     "output_type": "stream",
     "text": [
      "C:\\Users\\Jun\\AppData\\Local\\Temp\\ipykernel_14532\\2431963396.py:16: RuntimeWarning: overflow encountered in square\n",
      "  z = np.square(z) - 1\n",
      "C:\\Users\\Jun\\AppData\\Local\\Temp\\ipykernel_14532\\2431963396.py:16: RuntimeWarning: invalid value encountered in square\n",
      "  z = np.square(z) - 1\n"
     ]
    }
   ],
   "source": [
    "x, y = np.meshgrid(np.linspace(-2, 2, 400), np.linspace(-2, 2, 400))\n",
    "mesh = x + (1j * y)\n",
    "\n",
    "output = divergence_rate(mesh)\n",
    "\n",
    "fig = plt.figure(figsize=(5, 5))\n",
    "ax = plt.axes()\n",
    "\n",
    "ax.set_title('$f(z) = z^2-1$')\n",
    "ax.set_xlabel('Real axis')\n",
    "ax.set_ylabel('Imaginary axis')\n",
    "\n",
    "im = ax.imshow(output, extent=[-2, 2, -2, 2])\n",
    "divider = make_axes_locatable(ax)\n",
    "cax = divider.append_axes('right', size='5%', pad=0.1)\n",
    "plt.colorbar(im, cax=cax, label='Number of iterations');"
   ]
  }
 ],
 "metadata": {
  "kernelspec": {
   "display_name": "Python 3 (ipykernel)",
   "language": "python",
   "name": "python3"
  },
  "language_info": {
   "codemirror_mode": {
    "name": "ipython",
    "version": 3
   },
   "file_extension": ".py",
   "mimetype": "text/x-python",
   "name": "python",
   "nbconvert_exporter": "python",
   "pygments_lexer": "ipython3",
   "version": "3.10.9"
  }
 },
 "nbformat": 4,
 "nbformat_minor": 5
}
